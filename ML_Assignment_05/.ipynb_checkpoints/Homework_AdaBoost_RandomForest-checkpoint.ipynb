{
 "cells": [
  {
   "cell_type": "markdown",
   "metadata": {
    "deletable": false,
    "editable": false
   },
   "source": [
    "<div class=\"alert alert-block alert-info\" >\n",
    "    <h1>Machine Learning: Assignment 5</h1>\n",
    "    <h2>This is a three week assignment</h2>\n",
    "    <h3>General Information:</h3>\n",
    "    <p>Feel free to add cells if required.<br> Feel free to write your own function block to reduce the redundancy.<br> Answers belong into the corresponding cells (below the question). <br><br> If you encounter empty cells underneath the answer that can not be edited, please ignore them, they are for testing purposes.<br><br>When editing an assignment there can be the case that there are variables in the kernel. To make sure your assignment works, please restart the kernel and run all cells before submitting (e.g. via <i>Kernel -> Restart & Run All</i>). We don't consider that respective solution if you make this mistake (no excuse).</p>\n",
    "    <br><br><b> Plot should have axis labels, grid, legend, title, atleast size 10X10 also give proper comments, function name, variable names to your coding, if you didn't follow the instructions there will be a reduction in the points.</b><br><br> \n",
    "     <br><br><b> Write sudo-code if you didn't get output or left out of time so that you will be awarded with atmost 50% of marks for that particular session.</b><br><br>\n",
    "    <h3>Submission:</h3>\n",
    "    <p>Use the following naming convention for your submissions: LA_FirstnameLastname_dateOfLecture, e.g LA_JohnDoe_YYMMDD\n",
    "     <br><br>Please submit your notebook via LEA. The assignment is due on <b>$12^{th}$ June, Saturday at 18:00.</b> </p>\n",
    "    <h3>Group Work:</h3>\n",
    "    <p>You are allowed to work in groups of up to two people. Please enter the UID (your username here) of each member of the group into the next cell. We apply plagiarism checking, so do not submit solutions from other people except your team members. If an assignment has a copied solution, the task will be graded with 0 points for all people with the same solution.</p>\n",
    "    <p><b>YOU SHOULD ONLY SUBMIT EXACTLY ONE PER GROUP</b></p>\n",
    "    <h3>Questions about the Assignment:</h3>\n",
    "    <p>If you have questions about the assignment please post them in the LEA forum before the deadline. Don't wait until the last day to post questions.</p></div>"
   ]
  },
  {
   "cell_type": "code",
   "execution_count": 1,
   "metadata": {
    "deletable": false
   },
   "outputs": [],
   "source": [
    "'''\n",
    "Group Work:\n",
    "Enter the UID (i.e. student2s) of each team member into the variables. \n",
    "If you work alone please leave the second variable empty, or extend the list if necessary.\n",
    "'''\n",
    "member1 = 'sdeuss2s'\n",
    "member2 = 'mhelap2s'"
   ]
  },
  {
   "cell_type": "markdown",
   "metadata": {
    "deletable": false,
    "editable": false
   },
   "source": [
    "# Ensembles  [100 points]"
   ]
  },
  {
   "cell_type": "markdown",
   "metadata": {
    "deletable": false,
    "editable": false
   },
   "source": [
    "### Foundation pen dataset  \n",
    "1. The dataset provided consists of 8 classes (folder name) each classes contains 48 files of 30 observations each.\n",
    "2. Total of 12 pens are tested in 4 nest combination with three different velcity (3.4m, 4.5m and 9.0m).\n",
    "3. Each nest has 30 observations.\n",
    "4. The files consists of features and not the raw data.\n",
    "\n",
    "#### Note:- You don't need to watch the Lecture slide 7, 8, 9 to solve this but to understand whats happening you should go through it."
   ]
  },
  {
   "cell_type": "code",
   "execution_count": 2,
   "metadata": {
    "deletable": false
   },
   "outputs": [],
   "source": [
    "import numpy as np\n",
    "import matplotlib.pyplot as plt\n",
    "import pandas as pd\n",
    "from scipy import stats\n",
    "import sklearn\n",
    "#Import other libraries here\n",
    "\n",
    "\n",
    "from os import listdir\n",
    "from os.path import isdir, isfile, join\n",
    "from typing import NamedTuple\n",
    "from functools import reduce\n",
    "\n",
    "import csv\n"
   ]
  },
  {
   "cell_type": "markdown",
   "metadata": {
    "deletable": false,
    "editable": false
   },
   "source": [
    "## Task 1: Preprocessing [35 points]"
   ]
  },
  {
   "cell_type": "markdown",
   "metadata": {
    "deletable": false,
    "editable": false
   },
   "source": [
    "### 1. Load the data and display. Below the code cell write the adaboost algorithm (Just the 4 steps, no need explanation)[5 points]"
   ]
  },
  {
   "cell_type": "markdown",
   "metadata": {
    "deletable": false
   },
   "source": [
    "**Write the algorithm here**"
   ]
  },
  {
   "cell_type": "markdown",
   "metadata": {
    "deletable": false,
    "editable": false
   },
   "source": [
    "### 2. Extract the data [20 points]\n",
    "- Extract the data based on velocity 4.5m.\n",
    "- You should crawl into all the folder and combine only the data/file of velocity 4.5m for each class along with the class label.\n",
    "- Remove the insignificant columns (should have 46 column including the class label)\n",
    "- Display as pandas table"
   ]
  },
  {
   "cell_type": "code",
   "execution_count": 7,
   "metadata": {
    "deletable": false
   },
   "outputs": [
    {
     "name": "stdout",
     "output_type": "stream",
     "text": [
      "Read 112 csv files from the folder 'dataset'\n"
     ]
    },
    {
     "data": {
      "text/html": [
       "<div>\n",
       "<style scoped>\n",
       "    .dataframe tbody tr th:only-of-type {\n",
       "        vertical-align: middle;\n",
       "    }\n",
       "\n",
       "    .dataframe tbody tr th {\n",
       "        vertical-align: top;\n",
       "    }\n",
       "\n",
       "    .dataframe thead th {\n",
       "        text-align: right;\n",
       "    }\n",
       "</style>\n",
       "<table border=\"1\" class=\"dataframe\">\n",
       "  <thead>\n",
       "    <tr style=\"text-align: right;\">\n",
       "      <th></th>\n",
       "      <th>feature_0</th>\n",
       "      <th>feature_1</th>\n",
       "      <th>feature_2</th>\n",
       "      <th>feature_3</th>\n",
       "      <th>feature_4</th>\n",
       "      <th>feature_5</th>\n",
       "      <th>feature_6</th>\n",
       "      <th>feature_7</th>\n",
       "      <th>feature_8</th>\n",
       "      <th>feature_9</th>\n",
       "      <th>...</th>\n",
       "      <th>feature_39</th>\n",
       "      <th>feature_40</th>\n",
       "      <th>feature_41</th>\n",
       "      <th>feature_42</th>\n",
       "      <th>feature_43</th>\n",
       "      <th>feature_44</th>\n",
       "      <th>feature_45</th>\n",
       "      <th>class</th>\n",
       "      <th>configuration</th>\n",
       "      <th>nest</th>\n",
       "    </tr>\n",
       "  </thead>\n",
       "  <tbody>\n",
       "    <tr>\n",
       "      <th>0</th>\n",
       "      <td>2.355</td>\n",
       "      <td>4.625</td>\n",
       "      <td>0.845</td>\n",
       "      <td>1.904</td>\n",
       "      <td>2.355</td>\n",
       "      <td>4.625</td>\n",
       "      <td>0.201</td>\n",
       "      <td>0.398</td>\n",
       "      <td>0.584</td>\n",
       "      <td>1.251</td>\n",
       "      <td>...</td>\n",
       "      <td>0.032</td>\n",
       "      <td>29.983</td>\n",
       "      <td>39.121</td>\n",
       "      <td>258.377</td>\n",
       "      <td>336.474</td>\n",
       "      <td>23.861</td>\n",
       "      <td>26.874</td>\n",
       "      <td>H</td>\n",
       "      <td>2-3-4-1</td>\n",
       "      <td>3</td>\n",
       "    </tr>\n",
       "    <tr>\n",
       "      <th>1</th>\n",
       "      <td>2.183</td>\n",
       "      <td>2.397</td>\n",
       "      <td>1.483</td>\n",
       "      <td>2.397</td>\n",
       "      <td>2.183</td>\n",
       "      <td>1.492</td>\n",
       "      <td>0.057</td>\n",
       "      <td>0.083</td>\n",
       "      <td>0.549</td>\n",
       "      <td>0.615</td>\n",
       "      <td>...</td>\n",
       "      <td>0.006</td>\n",
       "      <td>29.133</td>\n",
       "      <td>33.518</td>\n",
       "      <td>255.170</td>\n",
       "      <td>287.766</td>\n",
       "      <td>19.013</td>\n",
       "      <td>21.032</td>\n",
       "      <td>H</td>\n",
       "      <td>2-3-4-1</td>\n",
       "      <td>3</td>\n",
       "    </tr>\n",
       "    <tr>\n",
       "      <th>2</th>\n",
       "      <td>1.873</td>\n",
       "      <td>2.993</td>\n",
       "      <td>1.873</td>\n",
       "      <td>2.993</td>\n",
       "      <td>1.151</td>\n",
       "      <td>2.380</td>\n",
       "      <td>0.177</td>\n",
       "      <td>0.177</td>\n",
       "      <td>0.688</td>\n",
       "      <td>0.977</td>\n",
       "      <td>...</td>\n",
       "      <td>0.004</td>\n",
       "      <td>30.012</td>\n",
       "      <td>33.895</td>\n",
       "      <td>283.782</td>\n",
       "      <td>295.578</td>\n",
       "      <td>22.808</td>\n",
       "      <td>22.910</td>\n",
       "      <td>H</td>\n",
       "      <td>2-3-4-1</td>\n",
       "      <td>3</td>\n",
       "    </tr>\n",
       "    <tr>\n",
       "      <th>3</th>\n",
       "      <td>1.938</td>\n",
       "      <td>4.815</td>\n",
       "      <td>1.938</td>\n",
       "      <td>4.815</td>\n",
       "      <td>1.781</td>\n",
       "      <td>3.622</td>\n",
       "      <td>0.238</td>\n",
       "      <td>0.305</td>\n",
       "      <td>0.591</td>\n",
       "      <td>1.462</td>\n",
       "      <td>...</td>\n",
       "      <td>0.012</td>\n",
       "      <td>34.265</td>\n",
       "      <td>41.386</td>\n",
       "      <td>282.154</td>\n",
       "      <td>428.175</td>\n",
       "      <td>25.565</td>\n",
       "      <td>27.868</td>\n",
       "      <td>H</td>\n",
       "      <td>2-3-4-1</td>\n",
       "      <td>3</td>\n",
       "    </tr>\n",
       "    <tr>\n",
       "      <th>4</th>\n",
       "      <td>1.898</td>\n",
       "      <td>3.195</td>\n",
       "      <td>1.865</td>\n",
       "      <td>2.472</td>\n",
       "      <td>1.898</td>\n",
       "      <td>3.195</td>\n",
       "      <td>0.083</td>\n",
       "      <td>0.104</td>\n",
       "      <td>0.768</td>\n",
       "      <td>1.018</td>\n",
       "      <td>...</td>\n",
       "      <td>0.003</td>\n",
       "      <td>32.849</td>\n",
       "      <td>40.161</td>\n",
       "      <td>298.587</td>\n",
       "      <td>552.874</td>\n",
       "      <td>20.794</td>\n",
       "      <td>23.579</td>\n",
       "      <td>H</td>\n",
       "      <td>2-3-4-1</td>\n",
       "      <td>3</td>\n",
       "    </tr>\n",
       "    <tr>\n",
       "      <th>...</th>\n",
       "      <td>...</td>\n",
       "      <td>...</td>\n",
       "      <td>...</td>\n",
       "      <td>...</td>\n",
       "      <td>...</td>\n",
       "      <td>...</td>\n",
       "      <td>...</td>\n",
       "      <td>...</td>\n",
       "      <td>...</td>\n",
       "      <td>...</td>\n",
       "      <td>...</td>\n",
       "      <td>...</td>\n",
       "      <td>...</td>\n",
       "      <td>...</td>\n",
       "      <td>...</td>\n",
       "      <td>...</td>\n",
       "      <td>...</td>\n",
       "      <td>...</td>\n",
       "      <td>...</td>\n",
       "      <td>...</td>\n",
       "      <td>...</td>\n",
       "    </tr>\n",
       "    <tr>\n",
       "      <th>3355</th>\n",
       "      <td>2.140</td>\n",
       "      <td>5.735</td>\n",
       "      <td>1.886</td>\n",
       "      <td>4.474</td>\n",
       "      <td>2.140</td>\n",
       "      <td>5.735</td>\n",
       "      <td>0.063</td>\n",
       "      <td>0.068</td>\n",
       "      <td>0.896</td>\n",
       "      <td>1.570</td>\n",
       "      <td>...</td>\n",
       "      <td>0.001</td>\n",
       "      <td>32.804</td>\n",
       "      <td>47.396</td>\n",
       "      <td>292.274</td>\n",
       "      <td>511.901</td>\n",
       "      <td>18.612</td>\n",
       "      <td>24.779</td>\n",
       "      <td>NMGR</td>\n",
       "      <td>1-2-3-4</td>\n",
       "      <td>2</td>\n",
       "    </tr>\n",
       "    <tr>\n",
       "      <th>3356</th>\n",
       "      <td>2.756</td>\n",
       "      <td>2.767</td>\n",
       "      <td>1.491</td>\n",
       "      <td>2.030</td>\n",
       "      <td>2.756</td>\n",
       "      <td>2.767</td>\n",
       "      <td>0.167</td>\n",
       "      <td>0.145</td>\n",
       "      <td>0.815</td>\n",
       "      <td>1.186</td>\n",
       "      <td>...</td>\n",
       "      <td>0.004</td>\n",
       "      <td>29.672</td>\n",
       "      <td>32.191</td>\n",
       "      <td>231.382</td>\n",
       "      <td>275.824</td>\n",
       "      <td>25.151</td>\n",
       "      <td>23.635</td>\n",
       "      <td>NMGR</td>\n",
       "      <td>1-2-3-4</td>\n",
       "      <td>2</td>\n",
       "    </tr>\n",
       "    <tr>\n",
       "      <th>3357</th>\n",
       "      <td>4.798</td>\n",
       "      <td>9.111</td>\n",
       "      <td>3.746</td>\n",
       "      <td>5.109</td>\n",
       "      <td>4.798</td>\n",
       "      <td>9.111</td>\n",
       "      <td>0.133</td>\n",
       "      <td>0.127</td>\n",
       "      <td>1.953</td>\n",
       "      <td>2.319</td>\n",
       "      <td>...</td>\n",
       "      <td>0.002</td>\n",
       "      <td>37.175</td>\n",
       "      <td>51.089</td>\n",
       "      <td>300.560</td>\n",
       "      <td>493.439</td>\n",
       "      <td>21.222</td>\n",
       "      <td>25.465</td>\n",
       "      <td>NMGR</td>\n",
       "      <td>1-2-3-4</td>\n",
       "      <td>2</td>\n",
       "    </tr>\n",
       "    <tr>\n",
       "      <th>3358</th>\n",
       "      <td>5.540</td>\n",
       "      <td>6.501</td>\n",
       "      <td>1.520</td>\n",
       "      <td>6.202</td>\n",
       "      <td>5.540</td>\n",
       "      <td>6.501</td>\n",
       "      <td>0.064</td>\n",
       "      <td>0.107</td>\n",
       "      <td>1.331</td>\n",
       "      <td>3.071</td>\n",
       "      <td>...</td>\n",
       "      <td>0.009</td>\n",
       "      <td>32.049</td>\n",
       "      <td>53.198</td>\n",
       "      <td>283.391</td>\n",
       "      <td>744.954</td>\n",
       "      <td>17.904</td>\n",
       "      <td>24.517</td>\n",
       "      <td>NMGR</td>\n",
       "      <td>1-2-3-4</td>\n",
       "      <td>2</td>\n",
       "    </tr>\n",
       "    <tr>\n",
       "      <th>3359</th>\n",
       "      <td>1.403</td>\n",
       "      <td>1.581</td>\n",
       "      <td>1.317</td>\n",
       "      <td>1.096</td>\n",
       "      <td>1.403</td>\n",
       "      <td>1.581</td>\n",
       "      <td>0.253</td>\n",
       "      <td>0.141</td>\n",
       "      <td>0.400</td>\n",
       "      <td>0.360</td>\n",
       "      <td>...</td>\n",
       "      <td>0.016</td>\n",
       "      <td>29.544</td>\n",
       "      <td>30.532</td>\n",
       "      <td>234.041</td>\n",
       "      <td>224.509</td>\n",
       "      <td>26.101</td>\n",
       "      <td>23.416</td>\n",
       "      <td>NMGR</td>\n",
       "      <td>1-2-3-4</td>\n",
       "      <td>2</td>\n",
       "    </tr>\n",
       "  </tbody>\n",
       "</table>\n",
       "<p>3360 rows × 49 columns</p>\n",
       "</div>"
      ],
      "text/plain": [
       "      feature_0  feature_1  feature_2  feature_3  feature_4  feature_5  \\\n",
       "0         2.355      4.625      0.845      1.904      2.355      4.625   \n",
       "1         2.183      2.397      1.483      2.397      2.183      1.492   \n",
       "2         1.873      2.993      1.873      2.993      1.151      2.380   \n",
       "3         1.938      4.815      1.938      4.815      1.781      3.622   \n",
       "4         1.898      3.195      1.865      2.472      1.898      3.195   \n",
       "...         ...        ...        ...        ...        ...        ...   \n",
       "3355      2.140      5.735      1.886      4.474      2.140      5.735   \n",
       "3356      2.756      2.767      1.491      2.030      2.756      2.767   \n",
       "3357      4.798      9.111      3.746      5.109      4.798      9.111   \n",
       "3358      5.540      6.501      1.520      6.202      5.540      6.501   \n",
       "3359      1.403      1.581      1.317      1.096      1.403      1.581   \n",
       "\n",
       "      feature_6  feature_7  feature_8  feature_9  ...  feature_39  feature_40  \\\n",
       "0         0.201      0.398      0.584      1.251  ...       0.032      29.983   \n",
       "1         0.057      0.083      0.549      0.615  ...       0.006      29.133   \n",
       "2         0.177      0.177      0.688      0.977  ...       0.004      30.012   \n",
       "3         0.238      0.305      0.591      1.462  ...       0.012      34.265   \n",
       "4         0.083      0.104      0.768      1.018  ...       0.003      32.849   \n",
       "...         ...        ...        ...        ...  ...         ...         ...   \n",
       "3355      0.063      0.068      0.896      1.570  ...       0.001      32.804   \n",
       "3356      0.167      0.145      0.815      1.186  ...       0.004      29.672   \n",
       "3357      0.133      0.127      1.953      2.319  ...       0.002      37.175   \n",
       "3358      0.064      0.107      1.331      3.071  ...       0.009      32.049   \n",
       "3359      0.253      0.141      0.400      0.360  ...       0.016      29.544   \n",
       "\n",
       "      feature_41  feature_42  feature_43  feature_44  feature_45  class  \\\n",
       "0         39.121     258.377     336.474      23.861      26.874      H   \n",
       "1         33.518     255.170     287.766      19.013      21.032      H   \n",
       "2         33.895     283.782     295.578      22.808      22.910      H   \n",
       "3         41.386     282.154     428.175      25.565      27.868      H   \n",
       "4         40.161     298.587     552.874      20.794      23.579      H   \n",
       "...          ...         ...         ...         ...         ...    ...   \n",
       "3355      47.396     292.274     511.901      18.612      24.779   NMGR   \n",
       "3356      32.191     231.382     275.824      25.151      23.635   NMGR   \n",
       "3357      51.089     300.560     493.439      21.222      25.465   NMGR   \n",
       "3358      53.198     283.391     744.954      17.904      24.517   NMGR   \n",
       "3359      30.532     234.041     224.509      26.101      23.416   NMGR   \n",
       "\n",
       "      configuration  nest  \n",
       "0           2-3-4-1     3  \n",
       "1           2-3-4-1     3  \n",
       "2           2-3-4-1     3  \n",
       "3           2-3-4-1     3  \n",
       "4           2-3-4-1     3  \n",
       "...             ...   ...  \n",
       "3355        1-2-3-4     2  \n",
       "3356        1-2-3-4     2  \n",
       "3357        1-2-3-4     2  \n",
       "3358        1-2-3-4     2  \n",
       "3359        1-2-3-4     2  \n",
       "\n",
       "[3360 rows x 49 columns]"
      ]
     },
     "execution_count": 7,
     "metadata": {},
     "output_type": "execute_result"
    }
   ],
   "source": [
    "\n",
    "\n",
    "Observation = NamedTuple(\"Observation\", \n",
    "                         path=str, file_name=str, df=pd.DataFrame, \n",
    "                         class_=str, nest=int, configuration=str)\n",
    "    \n",
    "def extract_data(path, *, velocity=\"4,5m\") -> pd.DataFrame:\n",
    "    \"\"\"\n",
    "    Loads all csv files from a given directory. Differentiates based on velocity in file name.\n",
    "    Returned dataframe will contain additional information parsed from the file name - configuration and nest.\n",
    "    \"\"\"\n",
    "    observations = []\n",
    "\n",
    "    for folder in listdir(path):\n",
    "        if isdir(join(path, folder)):\n",
    "            for file_name in listdir(join(path, folder)):\n",
    "                path_to_file = join(path, folder, file_name)\n",
    "                if isfile(path_to_file) and file_name.lower().endswith(\".csv\") and velocity in file_name:\n",
    "\n",
    "                    # extracts additional info from file name: G 2-3-4-1 - 4,5m - Nest-1.CSV\n",
    "                    # nasty, but gets the job done the easiest way\n",
    "                    class_, configuration, _, _, _, nest = file_name.split(\" \")\n",
    "                    nest = nest.split(\".\")[0]\n",
    "                    nest = configuration.split(\"-\")[1]\n",
    "\n",
    "                    with open(path_to_file) as f:\n",
    "                        reader = csv.reader(f, delimiter=\";\")\n",
    "\n",
    "                        rows = list(reader)\n",
    "                        for row in rows:\n",
    "                            for index, entry in enumerate(row):\n",
    "                                try:\n",
    "                                    replaced = entry.replace(\",\", \".\")\n",
    "                                    row[index] = float(replaced)\n",
    "                                    assert isinstance(row[index], float)\n",
    "\n",
    "                                except Exception as e:\n",
    "                                    row[index] = None\n",
    "                    df = pd.DataFrame(rows)\n",
    "\n",
    "                    df.drop([46, 47, 48], axis=1, inplace=True)\n",
    "                    rename_dict = {index:f\"feature_{index}\" for index in df.columns}\n",
    "                    df.rename(columns = rename_dict, inplace = True)\n",
    "\n",
    "                    df[\"class\"] = class_\n",
    "                    df[\"configuration\"] = configuration\n",
    "                    df[\"nest\"] = nest\n",
    "                    \n",
    "        \n",
    "                    observations.append(\n",
    "                        Observation(\n",
    "                            path=path_to_file,\n",
    "                            file_name=file_name,\n",
    "                            df=df,\n",
    "                            class_=class_, nest=nest, configuration=configuration)\n",
    "                    )\n",
    "\n",
    "    print(f\"Read {len(observations)} csv files from the folder 'dataset'\")\n",
    "    \n",
    "    \n",
    "    return pd.concat([o.df for o in observations])\n",
    "    \n",
    "    \n",
    "\n",
    "\n",
    "df = extract_data(\"./dataset/\")\n",
    "\n",
    "df.reset_index(drop=True, inplace=True)\n",
    "\n",
    "df"
   ]
  },
  {
   "cell_type": "markdown",
   "metadata": {
    "deletable": false,
    "editable": false
   },
   "source": [
    "### 3. Correlation [10 points]\n",
    "- Check the correlation between the features. \n",
    "\n",
    "**Hint:** \n",
    "1. Use sklearn library to see correlation between features or \n",
    "2. Reduce the dimensions using PCA/t-SNE to 3D/2D and then visualize"
   ]
  },
  {
   "cell_type": "code",
   "execution_count": 2,
   "metadata": {
    "deletable": false
   },
   "outputs": [],
   "source": [
    "# code here"
   ]
  },
  {
   "cell_type": "markdown",
   "metadata": {
    "deletable": false,
    "editable": false
   },
   "source": [
    "## Task 2: Ensemble Method [30 points]"
   ]
  },
  {
   "cell_type": "markdown",
   "metadata": {
    "deletable": false,
    "editable": false
   },
   "source": [
    "###  Apply the methods using sklearn library  \n",
    "\n",
    "- Split the data into training and testing sets (80-20%) \n",
    "- Train and test the model (have n_estimator = 100) for \n",
    "    - AdaBoost[15 points] \n",
    "    - Random Forest [15 points]\n"
   ]
  },
  {
   "cell_type": "code",
   "execution_count": 25,
   "metadata": {
    "deletable": false
   },
   "outputs": [],
   "source": [
    "def adaboost(data, label):\n",
    "    # code here\n",
    "    return\n",
    "\n",
    "def randomforest(data, label):\n",
    "    #code here\n",
    "    return"
   ]
  },
  {
   "cell_type": "markdown",
   "metadata": {
    "deletable": false,
    "editable": false
   },
   "source": [
    "##  Task 3: Evaluate the results [10 points]"
   ]
  },
  {
   "cell_type": "markdown",
   "metadata": {
    "deletable": false,
    "editable": false
   },
   "source": [
    "- Print the following for both adaboost and random forest [10 points]\n",
    "    - Accuracy (test)\n",
    "    - Classification report\n",
    "    - Confusion matrix as heatmap\n",
    "      \n",
    "- Which performed well adaboost or random forest? why? (answer below the code)[5 points]\n",
    " "
   ]
  },
  {
   "cell_type": "code",
   "execution_count": 26,
   "metadata": {
    "deletable": false
   },
   "outputs": [],
   "source": [
    "def evaluation(predict, test_label):\n",
    "    # code here\n",
    "    return"
   ]
  },
  {
   "cell_type": "markdown",
   "metadata": {
    "deletable": false
   },
   "source": [
    "**Write the answer here**"
   ]
  },
  {
   "cell_type": "markdown",
   "metadata": {
    "deletable": false,
    "editable": false
   },
   "source": [
    "## Task 4: Complexity curve [15 points]\n",
    "- Plot the complexity curve for aacuracy score for 200 tree number [Refer lecture slide 9]\n",
    "    - Adaboost for test and train [10 points]\n",
    "    - Random forest for test and train [10 points]\n",
    "    \n",
    "Note:- This may take a lot of time and RAM kindly do it in google Colab if the laptop doesn't have GPU"
   ]
  },
  {
   "cell_type": "code",
   "execution_count": 28,
   "metadata": {
    "deletable": false
   },
   "outputs": [],
   "source": [
    "def complexity_curve(data, label, tree_number):\n",
    "    # code here\n",
    "    return"
   ]
  },
  {
   "cell_type": "markdown",
   "metadata": {
    "deletable": false,
    "editable": false
   },
   "source": [
    "## Task 5: Is your code generic? [10 points]\n",
    "- If need to perform the above operations but the extraction based on nest-3 will it do if the file name alone is changed?"
   ]
  },
  {
   "cell_type": "code",
   "execution_count": null,
   "metadata": {
    "deletable": false
   },
   "outputs": [],
   "source": [
    "filename = None\n",
    "data = extract_data(filename)\n",
    "predict, test_label = randomforest(data, label)\n",
    "evaluation(predict, test_label)\n",
    "complexity_curve(data, label, tree_number)"
   ]
  }
 ],
 "metadata": {
  "kernelspec": {
   "display_name": "Python 3",
   "language": "python",
   "name": "python3"
  },
  "language_info": {
   "codemirror_mode": {
    "name": "ipython",
    "version": 3
   },
   "file_extension": ".py",
   "mimetype": "text/x-python",
   "name": "python",
   "nbconvert_exporter": "python",
   "pygments_lexer": "ipython3",
   "version": "3.8.5"
  }
 },
 "nbformat": 4,
 "nbformat_minor": 4
}
