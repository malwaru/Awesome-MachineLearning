{
 "cells": [
  {
   "cell_type": "markdown",
   "metadata": {
    "nbgrader": {
     "grade": false,
     "grade_id": "cell-a812b390a6bc7f26",
     "locked": true,
     "schema_version": 3,
     "solution": false,
     "task": false
    }
   },
   "source": [
    "# Hochschule Bonn-Rhein-Sieg\n",
    "\n",
    "# Machine Learning\n",
    "\n",
    "# Reinforcement Learning Assignment"
   ]
  },
  {
   "cell_type": "markdown",
   "metadata": {
    "nbgrader": {
     "grade": false,
     "grade_id": "cell-db895a3175409b48",
     "locked": true,
     "schema_version": 3,
     "solution": false,
     "task": false
    }
   },
   "source": [
    "Before you start working on this assignment, please:\n",
    "* set up the [OpenAI gym library](https://gym.openai.com), which is a Python library that defines various benchmarking environments in which reinforcement learning agents can be trained. Installation instructions for the library can be found [here](https://gym.openai.com/docs/#installation)\n",
    "* go through the [\"Getting Started With Gym\" tutorial](https://gym.openai.com/docs/#getting-started-with-gym) so that you can use the library effectively during the assignment"
   ]
  },
  {
   "cell_type": "code",
   "execution_count": 1,
   "metadata": {
    "nbgrader": {
     "grade": false,
     "grade_id": "cell-8e62e4c2eeced11c",
     "locked": true,
     "schema_version": 3,
     "solution": false,
     "task": false
    }
   },
   "outputs": [],
   "source": [
    "import numpy as np\n",
    "import gym\n",
    "import time\n",
    "import math\n",
    "\n",
    "from matplotlib import pyplot as plt\n",
    "\n",
    "np.set_printoptions(precision=4, suppress=True)"
   ]
  },
  {
   "cell_type": "markdown",
   "metadata": {
    "nbgrader": {
     "grade": false,
     "grade_id": "cell-87160b9f59e6aaa4",
     "locked": true,
     "schema_version": 3,
     "solution": false,
     "task": false
    }
   },
   "source": [
    "## Q-Learning\n",
    "\n",
    "Your task in this assignment is, in principle, rather simple: You need to implement the Q-learning algorithm for solving the cart-pole problem that we discussed in the reinforcement learning lecture.\n",
    "\n",
    "As you might remember from the lecture, the observation space of the cart-pole system consists of:\n",
    "1. the cart's $x$ position on the track\n",
    "2. the cart's linear velocity $\\dot{x}$ along the track\n",
    "3. the pole's angle $\\theta$ with respect to the vertical axis\n",
    "4. the pole's angular velocity $\\dot{\\theta}$\n",
    "\n",
    "The action space of the system is discrete - the pole can move either to the left or to the right with a constant velocity.\n",
    "\n",
    "\n",
    "The cart-pole environment provided in OpenAI gym is episodic, such that an episode ends if the pole (i) falls beyond a certain angle (the agent has failed in this case) or (ii) doesn't fall for 200 consecutive steps (the agent has succeeded in this case)."
   ]
  },
  {
   "cell_type": "markdown",
   "metadata": {
    "nbgrader": {
     "grade": false,
     "grade_id": "cell-6c7c15fbe487e42f",
     "locked": true,
     "schema_version": 3,
     "solution": false,
     "task": false
    }
   },
   "source": [
    "### Q-Function Learning [80 points]\n",
    "\n",
    "Your main task is to implement the function `train_policy` below, which takes the cart-pole environment provided in OpenAI gym and learns the values of the Q-function $Q(s,a)$ so that the cart-pole problem can be solved.\n",
    "\n",
    "#### State discretisation\n",
    "\n",
    "We particularly want to implement a discrete version of Q-learning, namely the Q-function $Q(s,a)$ should be learned for a discretised version of the state space. This means that you need to choose a discretisation of the state space variables so that you can then learn a tabular version of $Q(s,a)$ for all possible combinations of $s$ and $a$.\n",
    "\n",
    "You don't need to use all four state variables in your Q-function if some don't seem to contribute to the performance of the agent. This is something you will need to experiment with in your implementation.\n",
    "\n",
    "#### Action selection during training\n",
    "\n",
    "How you select actions during training is another aspect that you need to choose and experiment with. Remember that Q-learning is an off-policy learning algorithm, so it doesn't always choose the best action according to the current Q-values. A commonly used strategy is to use an $\\epsilon$-greedy policy during learning, according to which a greedy action (the one with the highest Q-value) is selected most of the time, but a random action is chosen with a probability $p$, where $p$ starts large at the beginning and decreases according to some schedule during the training process."
   ]
  },
  {
   "attachments": {
    "image.png": {
     "image/png": "[encoded data removed]"
    }
   },
   "cell_type": "markdown",
   "metadata": {},
   "source": [
    "![image.png](attachment:image.png)"
   ]
  },
  {
   "cell_type": "code",
   "execution_count": 2,
   "metadata": {
    "nbgrader": {
     "grade": false,
     "grade_id": "q_learning_implementation",
     "locked": false,
     "schema_version": 3,
     "solution": true,
     "task": false
    },
    "scrolled": true
   },
   "outputs": [],
   "source": [
    "np_array_win_size = np.array([0.25, 0.25, 0.01, 0.1])\n",
    "\n",
    "def discretize(state: np.array) -> np.array:\n",
    "    discrete_state = state / np_array_win_size + np.array([15,10,1,10])\n",
    "    return tuple(discrete_state.astype(np.int))\n",
    "\n",
    "\n",
    "def train_policy(env,\n",
    "                 *, \n",
    "                 n_episodes: int = 60000, \n",
    "                 learning_rate: float = 0.1, \n",
    "                 discount_factor: float = 0.95,\n",
    "                 size = [30, 30, 50, 50],\n",
    "                 epsilon_decay_value: float = 0.99995,\n",
    "                 plot: bool = False\n",
    "            ) -> np.ndarray:\n",
    "    \"\"\"Trains a policy for the given environment using tabular Q-learning.\n",
    "\n",
    "    Keyword arguments:\n",
    "    env -- OpenAI gym environment\n",
    "    n_episodes: int -- how many episodes to train the agent for\n",
    "    learning_rate: float\n",
    "    discount_factor: float\n",
    "    weights: np.array -- weights for cart pos, cart vel, pole angle, pole vel (higher is more important)\n",
    "    epsilon_decay_value: float\n",
    "\n",
    "    Returns:\n",
    "    Q -- a multidimensional numpy array representing the Q function Q(s,a)\n",
    "\n",
    "    \"\"\"\n",
    "        \n",
    "    total_time = 0\n",
    "    total_reward = 0\n",
    "    prior_reward = 0\n",
    "    count_random_action = 0\n",
    "    count_coordinatied_actions = 0\n",
    "\n",
    "    epsilon = 1\n",
    "    rewards = []\n",
    "    epsilons = []\n",
    "    counts_coordinated = []\n",
    "    counts_random = []\n",
    "    \n",
    "\n",
    "    Q = np.random.uniform(low=0, high=1, size=(size + [env.action_space.n]))\n",
    "    \n",
    "    for episode in range(n_episodes + 1): \n",
    "        time_start = time.time() \n",
    "        state_start = env.reset()\n",
    "        discrete_state = discretize(state_start) \n",
    "        done = False\n",
    "\n",
    "        episode_reward = 0 \n",
    "        \n",
    "        \n",
    "        if episode % 2000 == 0: \n",
    "            print(\"episode: \" + str(episode))\n",
    "            \n",
    "        while not done: \n",
    "            if np.random.random() > epsilon:\n",
    "                action = np.argmax(Q[discrete_state])\n",
    "                count_coordinatied_actions += 1\n",
    "            else:\n",
    "                action = np.random.randint(0, env.action_space.n)\n",
    "                count_random_action += 1\n",
    "                \n",
    "            \n",
    "            new_state, reward, done, _ = env.step(action)\n",
    "\n",
    "            episode_reward += reward\n",
    "            new_discrete_state = discretize(new_state)\n",
    "               \n",
    "            if not done:\n",
    "                max_future_Q = np.max(Q[new_discrete_state])\n",
    "                current_Q = Q[discrete_state + (action, )]\n",
    "                new_Q = (1 - learning_rate) * current_Q + learning_rate * (reward + discount_factor * max_future_Q)\n",
    "                Q[discrete_state + (action,)] = new_Q\n",
    "                \n",
    "\n",
    "            discrete_state = new_discrete_state\n",
    "            \n",
    "\n",
    "        if epsilon > 0.05:\n",
    "            if episode_reward > prior_reward and episode > 10000:\n",
    "                epsilon = math.pow(epsilon_decay_value, episode - 10000)\n",
    "\n",
    "        time_now = time.time() \n",
    "        episode_total = time_now - time_start \n",
    "        total_time = total_time + episode_total\n",
    "        prior_reward = episode_reward\n",
    "    \n",
    "\n",
    "        rewards.append(episode_reward)\n",
    "        epsilons.append(epsilon)\n",
    "        counts_coordinated.append(count_coordinatied_actions)\n",
    "        counts_random.append(count_random_action)\n",
    "        \n",
    "        \n",
    "        total_reward += episode_reward\n",
    "\n",
    "        if episode % 1000 == 0:\n",
    "            mean = total_time / 1000\n",
    "            print(f\"mean time alive: {mean}\")\n",
    "            total_time = 0\n",
    "\n",
    "            mean_reward = total_reward / 1000\n",
    "            print(f\"mean last 1000 episodes reward: {mean_reward}\")\n",
    "            total_reward = 0\n",
    "            \n",
    "#     if plot:       \n",
    "#         x_axis = list(range(n_episodes + 1))\n",
    "#         plt.scatter(x_axis, rewards)\n",
    "        \n",
    "    print(f\"finished training for {n_episodes} episodes, current reward: {mean_reward}\")\n",
    "    return Q\n"
   ]
  },
  {
   "cell_type": "markdown",
   "metadata": {
    "nbgrader": {
     "grade": false,
     "grade_id": "cell-0bca8c9c6f2eb2d7",
     "locked": true,
     "schema_version": 3,
     "solution": false,
     "task": false
    }
   },
   "source": [
    "Please run the following cell to execute your Q-function implementation. The learned Q-values will be used below for testing the agent. Note that learning may take several minutes. You are allowed to change the number of learning episodes to fit your implementation."
   ]
  },
  {
   "cell_type": "code",
   "execution_count": 3,
   "metadata": {
    "nbgrader": {
     "grade": false,
     "grade_id": "cell-7c4507c48ab2c241",
     "locked": true,
     "schema_version": 3,
     "solution": false,
     "task": false
    },
    "scrolled": true
   },
   "outputs": [
    {
     "name": "stdout",
     "output_type": "stream",
     "text": [
      "episode: 0\n",
      "mean time alive: 1.6558170318603516e-06\n",
      "mean last 1000 episodes reward: 0.025\n",
      "mean time alive: 0.000608274221420288\n",
      "mean last 1000 episodes reward: 22.786\n",
      "episode: 2000\n",
      "mean time alive: 0.0005851171016693115\n",
      "mean last 1000 episodes reward: 21.876\n",
      "mean time alive: 0.0006217844486236572\n",
      "mean last 1000 episodes reward: 22.955\n",
      "episode: 4000\n",
      "mean time alive: 0.0005868489742279052\n",
      "mean last 1000 episodes reward: 21.644\n",
      "mean time alive: 0.0006161396503448486\n",
      "mean last 1000 episodes reward: 22.753\n",
      "episode: 6000\n",
      "mean time alive: 0.0006102466583251953\n",
      "mean last 1000 episodes reward: 22.209\n",
      "mean time alive: 0.0006026384830474853\n",
      "mean last 1000 episodes reward: 21.874\n",
      "episode: 8000\n",
      "mean time alive: 0.0005910308361053467\n",
      "mean last 1000 episodes reward: 21.608\n",
      "mean time alive: 0.0005812475681304932\n",
      "mean last 1000 episodes reward: 21.604\n",
      "episode: 10000\n",
      "mean time alive: 0.0006064765453338623\n",
      "mean last 1000 episodes reward: 22.251\n",
      "mean time alive: 0.0006584277153015137\n",
      "mean last 1000 episodes reward: 23.888\n",
      "episode: 12000\n",
      "mean time alive: 0.0006583056449890137\n",
      "mean last 1000 episodes reward: 24.091\n",
      "mean time alive: 0.0007131283283233643\n",
      "mean last 1000 episodes reward: 25.539\n",
      "episode: 14000\n",
      "mean time alive: 0.000785757064819336\n",
      "mean last 1000 episodes reward: 28.222\n",
      "mean time alive: 0.0007993383407592774\n",
      "mean last 1000 episodes reward: 28.958\n",
      "episode: 16000\n",
      "mean time alive: 0.0008514201641082763\n",
      "mean last 1000 episodes reward: 30.571\n",
      "mean time alive: 0.0009362816810607911\n",
      "mean last 1000 episodes reward: 33.89\n",
      "episode: 18000\n",
      "mean time alive: 0.0009886469841003417\n",
      "mean last 1000 episodes reward: 36.453\n",
      "mean time alive: 0.0010895452499389648\n",
      "mean last 1000 episodes reward: 39.267\n",
      "episode: 20000\n",
      "mean time alive: 0.0011720516681671142\n",
      "mean last 1000 episodes reward: 43.174\n",
      "mean time alive: 0.0013418242931365967\n",
      "mean last 1000 episodes reward: 48.794\n",
      "episode: 22000\n",
      "mean time alive: 0.0013556241989135741\n",
      "mean last 1000 episodes reward: 51.805\n",
      "mean time alive: 0.0014965651035308838\n",
      "mean last 1000 episodes reward: 56.187\n",
      "episode: 24000\n",
      "mean time alive: 0.0016248059272766114\n",
      "mean last 1000 episodes reward: 61.362\n",
      "mean time alive: 0.0017950246334075928\n",
      "mean last 1000 episodes reward: 67.715\n",
      "episode: 26000\n",
      "mean time alive: 0.0018894319534301757\n",
      "mean last 1000 episodes reward: 70.485\n",
      "mean time alive: 0.0019921009540557863\n",
      "mean last 1000 episodes reward: 76.151\n",
      "episode: 28000\n",
      "mean time alive: 0.002062751054763794\n",
      "mean last 1000 episodes reward: 79.607\n",
      "mean time alive: 0.0022059993743896483\n",
      "mean last 1000 episodes reward: 85.631\n",
      "episode: 30000\n",
      "mean time alive: 0.002468773126602173\n",
      "mean last 1000 episodes reward: 95.503\n",
      "mean time alive: 0.0024500589370727538\n",
      "mean last 1000 episodes reward: 95.944\n",
      "episode: 32000\n",
      "mean time alive: 0.00276576042175293\n",
      "mean last 1000 episodes reward: 109.621\n",
      "mean time alive: 0.0027833852767944335\n",
      "mean last 1000 episodes reward: 110.759\n",
      "episode: 34000\n",
      "mean time alive: 0.002869323253631592\n",
      "mean last 1000 episodes reward: 115.063\n",
      "mean time alive: 0.002758711814880371\n",
      "mean last 1000 episodes reward: 111.22\n",
      "episode: 36000\n",
      "mean time alive: 0.0032118606567382814\n",
      "mean last 1000 episodes reward: 129.79\n",
      "mean time alive: 0.0030626530647277833\n",
      "mean last 1000 episodes reward: 124.023\n",
      "episode: 38000\n",
      "mean time alive: 0.0032196288108825685\n",
      "mean last 1000 episodes reward: 130.842\n",
      "mean time alive: 0.0032666218280792236\n",
      "mean last 1000 episodes reward: 133.442\n",
      "episode: 40000\n",
      "mean time alive: 0.0038381457328796388\n",
      "mean last 1000 episodes reward: 158.107\n",
      "mean time alive: 0.0036375045776367186\n",
      "mean last 1000 episodes reward: 148.779\n",
      "episode: 42000\n",
      "mean time alive: 0.003943411350250245\n",
      "mean last 1000 episodes reward: 162.803\n",
      "mean time alive: 0.0034774768352508543\n",
      "mean last 1000 episodes reward: 144.383\n",
      "episode: 44000\n",
      "mean time alive: 0.004104688405990601\n",
      "mean last 1000 episodes reward: 170.106\n",
      "mean time alive: 0.004831888675689697\n",
      "mean last 1000 episodes reward: 200.357\n",
      "episode: 46000\n",
      "mean time alive: 0.004714876174926758\n",
      "mean last 1000 episodes reward: 196.712\n",
      "mean time alive: 0.004813573360443115\n",
      "mean last 1000 episodes reward: 202.149\n",
      "episode: 48000\n",
      "mean time alive: 0.004622150182723999\n",
      "mean last 1000 episodes reward: 193.765\n",
      "mean time alive: 0.004531885623931885\n",
      "mean last 1000 episodes reward: 189.882\n",
      "episode: 50000\n",
      "mean time alive: 0.003998887538909912\n",
      "mean last 1000 episodes reward: 167.908\n",
      "mean time alive: 0.0039334893226623535\n",
      "mean last 1000 episodes reward: 165.419\n",
      "episode: 52000\n",
      "mean time alive: 0.004699985504150391\n",
      "mean last 1000 episodes reward: 198.453\n",
      "mean time alive: 0.005620200157165528\n",
      "mean last 1000 episodes reward: 239.184\n",
      "episode: 54000\n",
      "mean time alive: 0.005414119005203247\n",
      "mean last 1000 episodes reward: 230.182\n",
      "mean time alive: 0.005234966278076172\n",
      "mean last 1000 episodes reward: 226.011\n",
      "episode: 56000\n",
      "mean time alive: 0.00535185980796814\n",
      "mean last 1000 episodes reward: 231.582\n",
      "mean time alive: 0.005012875318527222\n",
      "mean last 1000 episodes reward: 215.487\n",
      "episode: 58000\n",
      "mean time alive: 0.005361302375793457\n",
      "mean last 1000 episodes reward: 231.609\n",
      "mean time alive: 0.004877241134643555\n",
      "mean last 1000 episodes reward: 209.873\n",
      "episode: 60000\n",
      "mean time alive: 0.005808507919311524\n",
      "mean last 1000 episodes reward: 249.792\n",
      "finished training for 60000 episodes, current reward: 249.792\n"
     ]
    }
   ],
   "source": [
    "env = gym.make(\"CartPole-v1\")\n",
    "try:\n",
    "    Q = train_policy(env)\n",
    "except Exception as e:\n",
    "    env.close()\n",
    "    raise e\n",
    "    \n",
    "env.close()"
   ]
  },
  {
   "cell_type": "markdown",
   "metadata": {
    "nbgrader": {
     "grade": false,
     "grade_id": "cell-fb3ca376db471f37",
     "locked": true,
     "schema_version": 3,
     "solution": false,
     "task": false
    }
   },
   "source": [
    "### Agent Testing [20 points]\n",
    "\n",
    "Now that you have learned a Q-function for the cart-pole problem, you need to test your implementation. For this, please implement the function `test_policy`, which runs the agent for a given number of test episodes using the learned Q-values and returns the average return over the test episodes.\n",
    "\n",
    "You can consider the cart-pole problem solved if your average return is $\\geq 195$, which means that your agent is able to survive until the end of each episode most of the time.\n",
    "\n",
    "If you notice that the average return is lower than expected, there might be different issues with the implementation, for instance:\n",
    "* the number of training episodes might be low\n",
    "* the action selection during training may be inappropriate (try experimenting with different schedules for your epsilon-greedy policy)\n",
    "* your state space discretisation may be inappropriate (also, the more fine-grained the discretisation is, the more training episodes you will need)\n",
    "\n",
    "You may need to experiment with all of these until you successfully train your agent.\n",
    "\n",
    "Good luck!"
   ]
  },
  {
   "cell_type": "code",
   "execution_count": 4,
   "metadata": {
    "nbgrader": {
     "grade": false,
     "grade_id": "cell-2f79255a005b51a6",
     "locked": false,
     "schema_version": 3,
     "solution": true,
     "task": false
    }
   },
   "outputs": [],
   "source": [
    "def test_policy(env, Q: np.ndarray, test_episodes: int) -> float:\n",
    "    \"\"\"Test a policy extracted from a learned Q-function on the given environment.\n",
    "    The policy is tested for a given number of episodes.\n",
    "\n",
    "    Keyword arguments:\n",
    "    env -- OpenAI gym environment\n",
    "    Q: np.ndarray -- a multidimensional numpy array representing the Q function Q(s,a)\n",
    "    test_episodes: int -- number of episodes for testing the learned policy\n",
    "\n",
    "    Returns:\n",
    "    avg_return: float -- the average return over the test episodes\n",
    "\n",
    "    \"\"\"  \n",
    "    total_reward = 0\n",
    "    for episode in range(test_episodes):\n",
    "        time_start = time.time() \n",
    "        state_start = env.reset()\n",
    "        done = False\n",
    "        episode_reward = 0  \n",
    "        discrete_state = discretize(state_start) \n",
    "        \n",
    "        while not done: \n",
    "            action = np.argmax(Q[discrete_state])\n",
    "            new_state, reward, done, _ = env.step(action)\n",
    "            discrete_state = discretize(new_state)\n",
    "            episode_reward += reward  \n",
    "            env.render()\n",
    "            \n",
    "        total_reward += episode_reward\n",
    "\n",
    "    env.close()\n",
    "\n",
    "    return total_reward / test_episodes"
   ]
  },
  {
   "cell_type": "code",
   "execution_count": 5,
   "metadata": {
    "nbgrader": {
     "grade": false,
     "grade_id": "cell-409f3bf92805ad7d",
     "locked": true,
     "schema_version": 3,
     "solution": false,
     "task": false
    }
   },
   "outputs": [
    {
     "name": "stdout",
     "output_type": "stream",
     "text": [
      "Testing policy for 10 episodes...\n",
      "Average test return = 374.4\n"
     ]
    }
   ],
   "source": [
    "test_episodes = 10\n",
    "\n",
    "print('Testing policy for {0} episodes...'.format(test_episodes))\n",
    "avg_return = test_policy(env, Q, test_episodes)\n",
    "env.close()\n",
    "print('Average test return =', avg_return)"
   ]
  }
 ],
 "metadata": {
  "celltoolbar": "Create Assignment",
  "kernelspec": {
   "display_name": "Python 3",
   "language": "python",
   "name": "python3"
  },
  "language_info": {
   "codemirror_mode": {
    "name": "ipython",
    "version": 3
   },
   "file_extension": ".py",
   "mimetype": "text/x-python",
   "name": "python",
   "nbconvert_exporter": "python",
   "pygments_lexer": "ipython3",
   "version": "3.8.10"
  }
 },
 "nbformat": 4,
 "nbformat_minor": 5
}
