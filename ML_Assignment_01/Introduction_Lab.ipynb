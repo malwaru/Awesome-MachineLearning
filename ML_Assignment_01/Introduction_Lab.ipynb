{
 "cells": [
  {
   "cell_type": "markdown",
   "metadata": {},
   "source": [
    "## Task 1\n",
    "Continious random variable $X$ is defined by its distribution function (cumulative distribution function CDF):  \n",
    "$F(x)=\\begin{cases} 0 , x<0 \\\\ \\frac{x^2}{9}, 0\\leq x \\leq3 \\\\ 1, x>3 \\end{cases}$  \n",
    "1) Plot F(x).  \n",
    "2) Find probability density function $f(x)=F'(x)$.  \n",
    "3) Show that $\\int_{\\infty}^{+\\infty}f(x)=1$  \n",
    "4) Compute $P(0 \\leq X \\leq 1)$ and $P(2 \\leq X \\leq 3)$"
   ]
  },
  {
   "cell_type": "code",
   "execution_count": 13,
   "metadata": {},
   "outputs": [],
   "source": [
    "import numpy as np\n",
    "import matplotlib.pyplot as plt\n"
   ]
  },
  {
   "cell_type": "code",
   "execution_count": 30,
   "metadata": {},
   "outputs": [
    {
     "data": {
      "image/png": "[encoded data removed]",
      "text/plain": [
       "<Figure size 432x288 with 1 Axes>"
      ]
     },
     "metadata": {
      "needs_background": "light"
     },
     "output_type": "display_data"
    }
   ],
   "source": [
    "x=np.linspace(-3,3,100)\n",
    "F_X=[]\n",
    "for number in x:\n",
    "    \n",
    "    if number<0:\n",
    "        F_X.append(0)\n",
    "    if (number>=0) and (number<=3):\n",
    "        F_X.append((number**2)/9)\n",
    "        \n",
    "    if number>3:\n",
    "        F_X.append(1)\n",
    "        \n",
    "\n",
    "        \n",
    "plt.plot(x,F_X)\n",
    "plt.title('F(x) vs x')\n",
    "plt.xlabel('Data')\n",
    "plt.ylabel('F(x)')\n",
    "plt.grid()\n",
    "plt.show()\n"
   ]
  },
  {
   "cell_type": "markdown",
   "metadata": {},
   "source": [
    "## Task 2\n",
    "Continious random variable $X$ is defined by its distribution function:  \n",
    "$F(x)=\\begin{cases} 0 , x\\leq c \\\\ \\frac{(x+1)^3}{8}, c\\leq x \\leq d \\\\ 1, x>d \\end{cases}$  \n",
    "1) Find $c$, $d$ and $f(x)$.    \n",
    "2) Check that $f(x)$ is a probability density function   \n",
    "3) Show that $\\int_{\\infty}^{+\\infty}f(x)=1$  \n",
    "4) Plot $F(x)$ and $f(x)$"
   ]
  },
  {
   "cell_type": "markdown",
   "metadata": {},
   "source": [
    "## Task 3\n",
    "Given the probability density function of continuous random variable $X$  \n",
    "$f(x)=\\begin{cases} Ax , x \\in [1;5) \\\\ 0 x\\min [1;5)\\end{cases}$   \n",
    "1) Find $A$.      \n",
    "2) $F(x)$.   \n",
    "3) Plot $F(x)$ and $f(x)$  \n",
    "4) Find $P(1 \\leq X < 3)$"
   ]
  },
  {
   "cell_type": "code",
   "execution_count": null,
   "metadata": {},
   "outputs": [],
   "source": []
  }
 ],
 "metadata": {
  "kernelspec": {
   "display_name": "Python 3",
   "language": "python",
   "name": "python3"
  },
  "language_info": {
   "codemirror_mode": {
    "name": "ipython",
    "version": 3
   },
   "file_extension": ".py",
   "mimetype": "text/x-python",
   "name": "python",
   "nbconvert_exporter": "python",
   "pygments_lexer": "ipython3",
   "version": "3.6.9"
  }
 },
 "nbformat": 4,
 "nbformat_minor": 2
}
